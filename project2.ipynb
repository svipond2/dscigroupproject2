{
 "cells": [
  {
   "cell_type": "markdown",
   "id": "5933f31f-0941-4c1b-a3d3-98c1235d95d6",
   "metadata": {},
   "source": [
    "# DSCI GROUP PROJECT: (title)"
   ]
  },
  {
   "cell_type": "markdown",
   "id": "635e34a8-59b2-4c0d-8e59-7b8db2fa8d46",
   "metadata": {},
   "source": [
    "## Question\n",
    "**Broad Question**: “What player characteristics and behaviours are most predictive of \n",
    "subscribing to a game-related newsletter, and how do these features differ between various player types?”\\\n",
    "**Specific Question**: Can age and played_hours  predict if a player is subscribed in \n",
    "the players data set?\\\n",
    "\\\n",
    "→ Maybe rephrased it to...\\\n",
    "Can variables, age and played_hours in players.csv data set, predict if a player subscribes the news letter?\"\n",
    "\n",
    "`subscribe`: It has TRUE/FALSE statements. TRUE for those who subscribe the news settler:FALSE for those who do NOT subscribe the news letter."
   ]
  },
  {
   "cell_type": "markdown",
   "id": "b9e0298d-bb56-425c-ba9f-5490e8966f21",
   "metadata": {},
   "source": [
    "CODE:"
   ]
  },
  {
   "cell_type": "code",
   "execution_count": 2,
   "id": "2c6705f2-127e-45a0-a2c6-afd8a027f60a",
   "metadata": {},
   "outputs": [],
   "source": [
    "library(tidyverse)"
   ]
  },
  {
   "cell_type": "code",
   "execution_count": 3,
   "id": "62b37b61-df2a-4fc2-9383-9090481398fb",
   "metadata": {},
   "outputs": [
    {
     "name": "stderr",
     "output_type": "stream",
     "text": [
      "\u001b[1mRows: \u001b[22m\u001b[34m196\u001b[39m \u001b[1mColumns: \u001b[22m\u001b[34m7\u001b[39m\n",
      "\u001b[36m──\u001b[39m \u001b[1mColumn specification\u001b[22m \u001b[36m────────────────────────────────────────────────────────\u001b[39m\n",
      "\u001b[1mDelimiter:\u001b[22m \",\"\n",
      "\u001b[31mchr\u001b[39m (4): experience, hashedEmail, name, gender\n",
      "\u001b[32mdbl\u001b[39m (2): played_hours, Age\n",
      "\u001b[33mlgl\u001b[39m (1): subscribe\n",
      "\n",
      "\u001b[36mℹ\u001b[39m Use `spec()` to retrieve the full column specification for this data.\n",
      "\u001b[36mℹ\u001b[39m Specify the column types or set `show_col_types = FALSE` to quiet this message.\n"
     ]
    },
    {
     "data": {
      "text/html": [
       "<table class=\"dataframe\">\n",
       "<caption>A tibble: 6 × 7</caption>\n",
       "<thead>\n",
       "\t<tr><th scope=col>experience</th><th scope=col>subscribe</th><th scope=col>hashedEmail</th><th scope=col>played_hours</th><th scope=col>name</th><th scope=col>gender</th><th scope=col>Age</th></tr>\n",
       "\t<tr><th scope=col>&lt;chr&gt;</th><th scope=col>&lt;lgl&gt;</th><th scope=col>&lt;chr&gt;</th><th scope=col>&lt;dbl&gt;</th><th scope=col>&lt;chr&gt;</th><th scope=col>&lt;chr&gt;</th><th scope=col>&lt;dbl&gt;</th></tr>\n",
       "</thead>\n",
       "<tbody>\n",
       "\t<tr><td>Pro    </td><td> TRUE</td><td>f6daba428a5e19a3d47574858c13550499be23603422e6a0ee9728f8b53e192d</td><td>30.3</td><td>Morgan   </td><td>Male  </td><td> 9</td></tr>\n",
       "\t<tr><td>Veteran</td><td> TRUE</td><td>f3c813577c458ba0dfef80996f8f32c93b6e8af1fa939732842f2312358a88e9</td><td> 3.8</td><td>Christian</td><td>Male  </td><td>17</td></tr>\n",
       "\t<tr><td>Veteran</td><td>FALSE</td><td>b674dd7ee0d24096d1c019615ce4d12b20fcbff12d79d3c5a9d2118eb7ccbb28</td><td> 0.0</td><td>Blake    </td><td>Male  </td><td>17</td></tr>\n",
       "\t<tr><td>Amateur</td><td> TRUE</td><td>23fe711e0e3b77f1da7aa221ab1192afe21648d47d2b4fa7a5a659ff443a0eb5</td><td> 0.7</td><td>Flora    </td><td>Female</td><td>21</td></tr>\n",
       "\t<tr><td>Regular</td><td> TRUE</td><td>7dc01f10bf20671ecfccdac23812b1b415acd42c2147cb0af4d48fcce2420f3e</td><td> 0.1</td><td>Kylie    </td><td>Male  </td><td>21</td></tr>\n",
       "\t<tr><td>Amateur</td><td> TRUE</td><td>f58aad5996a435f16b0284a3b267f973f9af99e7a89bee0430055a44fa92f977</td><td> 0.0</td><td>Adrian   </td><td>Female</td><td>17</td></tr>\n",
       "</tbody>\n",
       "</table>\n"
      ],
      "text/latex": [
       "A tibble: 6 × 7\n",
       "\\begin{tabular}{lllllll}\n",
       " experience & subscribe & hashedEmail & played\\_hours & name & gender & Age\\\\\n",
       " <chr> & <lgl> & <chr> & <dbl> & <chr> & <chr> & <dbl>\\\\\n",
       "\\hline\n",
       "\t Pro     &  TRUE & f6daba428a5e19a3d47574858c13550499be23603422e6a0ee9728f8b53e192d & 30.3 & Morgan    & Male   &  9\\\\\n",
       "\t Veteran &  TRUE & f3c813577c458ba0dfef80996f8f32c93b6e8af1fa939732842f2312358a88e9 &  3.8 & Christian & Male   & 17\\\\\n",
       "\t Veteran & FALSE & b674dd7ee0d24096d1c019615ce4d12b20fcbff12d79d3c5a9d2118eb7ccbb28 &  0.0 & Blake     & Male   & 17\\\\\n",
       "\t Amateur &  TRUE & 23fe711e0e3b77f1da7aa221ab1192afe21648d47d2b4fa7a5a659ff443a0eb5 &  0.7 & Flora     & Female & 21\\\\\n",
       "\t Regular &  TRUE & 7dc01f10bf20671ecfccdac23812b1b415acd42c2147cb0af4d48fcce2420f3e &  0.1 & Kylie     & Male   & 21\\\\\n",
       "\t Amateur &  TRUE & f58aad5996a435f16b0284a3b267f973f9af99e7a89bee0430055a44fa92f977 &  0.0 & Adrian    & Female & 17\\\\\n",
       "\\end{tabular}\n"
      ],
      "text/markdown": [
       "\n",
       "A tibble: 6 × 7\n",
       "\n",
       "| experience &lt;chr&gt; | subscribe &lt;lgl&gt; | hashedEmail &lt;chr&gt; | played_hours &lt;dbl&gt; | name &lt;chr&gt; | gender &lt;chr&gt; | Age &lt;dbl&gt; |\n",
       "|---|---|---|---|---|---|---|\n",
       "| Pro     |  TRUE | f6daba428a5e19a3d47574858c13550499be23603422e6a0ee9728f8b53e192d | 30.3 | Morgan    | Male   |  9 |\n",
       "| Veteran |  TRUE | f3c813577c458ba0dfef80996f8f32c93b6e8af1fa939732842f2312358a88e9 |  3.8 | Christian | Male   | 17 |\n",
       "| Veteran | FALSE | b674dd7ee0d24096d1c019615ce4d12b20fcbff12d79d3c5a9d2118eb7ccbb28 |  0.0 | Blake     | Male   | 17 |\n",
       "| Amateur |  TRUE | 23fe711e0e3b77f1da7aa221ab1192afe21648d47d2b4fa7a5a659ff443a0eb5 |  0.7 | Flora     | Female | 21 |\n",
       "| Regular |  TRUE | 7dc01f10bf20671ecfccdac23812b1b415acd42c2147cb0af4d48fcce2420f3e |  0.1 | Kylie     | Male   | 21 |\n",
       "| Amateur |  TRUE | f58aad5996a435f16b0284a3b267f973f9af99e7a89bee0430055a44fa92f977 |  0.0 | Adrian    | Female | 17 |\n",
       "\n"
      ],
      "text/plain": [
       "  experience subscribe\n",
       "1 Pro         TRUE    \n",
       "2 Veteran     TRUE    \n",
       "3 Veteran    FALSE    \n",
       "4 Amateur     TRUE    \n",
       "5 Regular     TRUE    \n",
       "6 Amateur     TRUE    \n",
       "  hashedEmail                                                      played_hours\n",
       "1 f6daba428a5e19a3d47574858c13550499be23603422e6a0ee9728f8b53e192d 30.3        \n",
       "2 f3c813577c458ba0dfef80996f8f32c93b6e8af1fa939732842f2312358a88e9  3.8        \n",
       "3 b674dd7ee0d24096d1c019615ce4d12b20fcbff12d79d3c5a9d2118eb7ccbb28  0.0        \n",
       "4 23fe711e0e3b77f1da7aa221ab1192afe21648d47d2b4fa7a5a659ff443a0eb5  0.7        \n",
       "5 7dc01f10bf20671ecfccdac23812b1b415acd42c2147cb0af4d48fcce2420f3e  0.1        \n",
       "6 f58aad5996a435f16b0284a3b267f973f9af99e7a89bee0430055a44fa92f977  0.0        \n",
       "  name      gender Age\n",
       "1 Morgan    Male    9 \n",
       "2 Christian Male   17 \n",
       "3 Blake     Male   17 \n",
       "4 Flora     Female 21 \n",
       "5 Kylie     Male   21 \n",
       "6 Adrian    Female 17 "
      ]
     },
     "metadata": {},
     "output_type": "display_data"
    }
   ],
   "source": [
    "players <- read_csv(\"players (3).csv\")\n",
    "head(players)\n",
    "\n",
    "\n",
    "url <- \"  \"\n",
    "sessions <- read_csv(url)\n",
    "head(sessions)"
   ]
  },
  {
   "cell_type": "code",
   "execution_count": 6,
   "id": "1eaa6307-a4ef-462f-90b2-67a342b4d3a3",
   "metadata": {},
   "outputs": [
    {
     "data": {
      "text/html": [
       "<table class=\"dataframe\">\n",
       "<caption>A tibble: 6 × 3</caption>\n",
       "<thead>\n",
       "\t<tr><th scope=col>subscribe</th><th scope=col>played_hours</th><th scope=col>Age</th></tr>\n",
       "\t<tr><th scope=col>&lt;lgl&gt;</th><th scope=col>&lt;dbl&gt;</th><th scope=col>&lt;dbl&gt;</th></tr>\n",
       "</thead>\n",
       "<tbody>\n",
       "\t<tr><td> TRUE</td><td>30.3</td><td> 9</td></tr>\n",
       "\t<tr><td> TRUE</td><td> 3.8</td><td>17</td></tr>\n",
       "\t<tr><td>FALSE</td><td> 0.0</td><td>17</td></tr>\n",
       "\t<tr><td> TRUE</td><td> 0.7</td><td>21</td></tr>\n",
       "\t<tr><td> TRUE</td><td> 0.1</td><td>21</td></tr>\n",
       "\t<tr><td> TRUE</td><td> 0.0</td><td>17</td></tr>\n",
       "</tbody>\n",
       "</table>\n"
      ],
      "text/latex": [
       "A tibble: 6 × 3\n",
       "\\begin{tabular}{lll}\n",
       " subscribe & played\\_hours & Age\\\\\n",
       " <lgl> & <dbl> & <dbl>\\\\\n",
       "\\hline\n",
       "\t  TRUE & 30.3 &  9\\\\\n",
       "\t  TRUE &  3.8 & 17\\\\\n",
       "\t FALSE &  0.0 & 17\\\\\n",
       "\t  TRUE &  0.7 & 21\\\\\n",
       "\t  TRUE &  0.1 & 21\\\\\n",
       "\t  TRUE &  0.0 & 17\\\\\n",
       "\\end{tabular}\n"
      ],
      "text/markdown": [
       "\n",
       "A tibble: 6 × 3\n",
       "\n",
       "| subscribe &lt;lgl&gt; | played_hours &lt;dbl&gt; | Age &lt;dbl&gt; |\n",
       "|---|---|---|\n",
       "|  TRUE | 30.3 |  9 |\n",
       "|  TRUE |  3.8 | 17 |\n",
       "| FALSE |  0.0 | 17 |\n",
       "|  TRUE |  0.7 | 21 |\n",
       "|  TRUE |  0.1 | 21 |\n",
       "|  TRUE |  0.0 | 17 |\n",
       "\n"
      ],
      "text/plain": [
       "  subscribe played_hours Age\n",
       "1  TRUE     30.3          9 \n",
       "2  TRUE      3.8         17 \n",
       "3 FALSE      0.0         17 \n",
       "4  TRUE      0.7         21 \n",
       "5  TRUE      0.1         21 \n",
       "6  TRUE      0.0         17 "
      ]
     },
     "metadata": {},
     "output_type": "display_data"
    }
   ],
   "source": [
    "players_select <- players|>\n",
    "    select(subscribe, played_hours, Age)\n",
    "head(players_select)"
   ]
  },
  {
   "cell_type": "code",
   "execution_count": 10,
   "id": "75d8b747-e72e-4416-a6a1-eef11774bd93",
   "metadata": {},
   "outputs": [
    {
     "data": {
      "text/html": [
       "<table class=\"dataframe\">\n",
       "<caption>A tibble: 1 × 2</caption>\n",
       "<thead>\n",
       "\t<tr><th scope=col>mean_played_hours</th><th scope=col>mean_age</th></tr>\n",
       "\t<tr><th scope=col>&lt;dbl&gt;</th><th scope=col>&lt;dbl&gt;</th></tr>\n",
       "</thead>\n",
       "<tbody>\n",
       "\t<tr><td>5.845918</td><td>20.52062</td></tr>\n",
       "</tbody>\n",
       "</table>\n"
      ],
      "text/latex": [
       "A tibble: 1 × 2\n",
       "\\begin{tabular}{ll}\n",
       " mean\\_played\\_hours & mean\\_age\\\\\n",
       " <dbl> & <dbl>\\\\\n",
       "\\hline\n",
       "\t 5.845918 & 20.52062\\\\\n",
       "\\end{tabular}\n"
      ],
      "text/markdown": [
       "\n",
       "A tibble: 1 × 2\n",
       "\n",
       "| mean_played_hours &lt;dbl&gt; | mean_age &lt;dbl&gt; |\n",
       "|---|---|\n",
       "| 5.845918 | 20.52062 |\n",
       "\n"
      ],
      "text/plain": [
       "  mean_played_hours mean_age\n",
       "1 5.845918          20.52062"
      ]
     },
     "metadata": {},
     "output_type": "display_data"
    }
   ],
   "source": [
    "players_separated <- players_select |>\n",
    "  mutate(\n",
    "    played_hours = as.numeric(played_hours),\n",
    "    age = as.numeric(Age))\n",
    "mean_values <- players_separated |>\n",
    "  summarise(\n",
    "    mean_played_hours = mean(played_hours, na.rm = TRUE),\n",
    "    mean_age = mean(age, na.rm = TRUE))\n",
    "mean_values"
   ]
  },
  {
   "cell_type": "markdown",
   "id": "84f6d172-f376-4345-b3a0-43aa8f295305",
   "metadata": {},
   "source": [
    "## Mean Value Calculation"
   ]
  },
  {
   "cell_type": "code",
   "execution_count": 4,
   "id": "5cbcc689-efc3-42a6-a3ea-10e6af358d5c",
   "metadata": {},
   "outputs": [
    {
     "data": {
      "text/html": [
       "<table class=\"dataframe\">\n",
       "<caption>A tibble: 1 × 2</caption>\n",
       "<thead>\n",
       "\t<tr><th scope=col>played_hours</th><th scope=col>Age</th></tr>\n",
       "\t<tr><th scope=col>&lt;dbl&gt;</th><th scope=col>&lt;dbl&gt;</th></tr>\n",
       "</thead>\n",
       "<tbody>\n",
       "\t<tr><td>5.845918</td><td>20.52062</td></tr>\n",
       "</tbody>\n",
       "</table>\n"
      ],
      "text/latex": [
       "A tibble: 1 × 2\n",
       "\\begin{tabular}{ll}\n",
       " played\\_hours & Age\\\\\n",
       " <dbl> & <dbl>\\\\\n",
       "\\hline\n",
       "\t 5.845918 & 20.52062\\\\\n",
       "\\end{tabular}\n"
      ],
      "text/markdown": [
       "\n",
       "A tibble: 1 × 2\n",
       "\n",
       "| played_hours &lt;dbl&gt; | Age &lt;dbl&gt; |\n",
       "|---|---|\n",
       "| 5.845918 | 20.52062 |\n",
       "\n"
      ],
      "text/plain": [
       "  played_hours Age     \n",
       "1 5.845918     20.52062"
      ]
     },
     "metadata": {},
     "output_type": "display_data"
    }
   ],
   "source": [
    "players_mean <- players |>\n",
    "                select(played_hours, Age) |>\n",
    "                map_df(mean, na.rm=TRUE)\n",
    "players_mean"
   ]
  },
  {
   "cell_type": "code",
   "execution_count": null,
   "id": "8a6c809b-cf64-45b0-b5ee-59c9703bb18a",
   "metadata": {},
   "outputs": [],
   "source": [
    "sessions_mean <- sessions |>\n",
    "                select(original_start_time, original_end_time) |>\n",
    "                map_df(mean, na.rm=TRUE)\n",
    "sessions_mean"
   ]
  },
  {
   "cell_type": "markdown",
   "id": "618161e2-da78-4176-b3df-49504000b380",
   "metadata": {},
   "source": [
    "**Justification that using players.csv is suitable to answer the specific question.**"
   ]
  },
  {
   "cell_type": "markdown",
   "id": "cecd57f8-0a83-4e34-af97-810e8f0f239a",
   "metadata": {},
   "source": [
    "## Exploratory Data Analysis and Visualization"
   ]
  },
  {
   "cell_type": "code",
   "execution_count": 5,
   "id": "8cc8b907-2d04-45b4-b4b4-91f5e0f7ccde",
   "metadata": {},
   "outputs": [],
   "source": [
    "#Before making cool graphs, we want to start from very basic graph to see if there is any trend.\n"
   ]
  },
  {
   "cell_type": "code",
   "execution_count": null,
   "id": "9050a1fa-ca98-47b8-89e7-09128cfb5f86",
   "metadata": {},
   "outputs": [],
   "source": []
  },
  {
   "cell_type": "code",
   "execution_count": null,
   "id": "3f8f25a9-a027-4efc-a538-9e66fb271276",
   "metadata": {},
   "outputs": [],
   "source": []
  }
 ],
 "metadata": {
  "kernelspec": {
   "display_name": "R",
   "language": "R",
   "name": "ir"
  },
  "language_info": {
   "codemirror_mode": "r",
   "file_extension": ".r",
   "mimetype": "text/x-r-source",
   "name": "R",
   "pygments_lexer": "r",
   "version": "4.3.3"
  }
 },
 "nbformat": 4,
 "nbformat_minor": 5
}
